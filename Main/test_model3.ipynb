{
 "cells": [
  {
   "cell_type": "code",
   "execution_count": 1,
   "id": "f91a39a7",
   "metadata": {},
   "outputs": [],
   "source": [
    "import tensorflow as tf\n",
    "from tensorflow.keras.preprocessing.sequence import pad_sequences\n",
    "from tensorflow.keras.preprocessing.text import Tokenizer\n",
    "import numpy as np\n",
    "import pickle"
   ]
  },
  {
   "cell_type": "code",
   "execution_count": 2,
   "id": "5268b4dd",
   "metadata": {},
   "outputs": [
    {
     "name": "stdout",
     "output_type": "stream",
     "text": [
      "\n",
      "\n",
      "=> Fuck you asshole !!!\n",
      "\n",
      "\n",
      "Offensive (70.43 % of accuracy)\n",
      "\n",
      "\n"
     ]
    }
   ],
   "source": [
    "max_words = 5000\n",
    "max_len = 200\n",
    "\n",
    "best_model3 = tf.keras.models.load_model(\"../Model/best_model3.hdf5\")\n",
    "sentiment3 = ['Hate Speech','Offensive','Neutral']\n",
    "\n",
    "with open('tockenizer3.pickle','rb') as handle:\n",
    "    tokenizer3 = pickle.load(handle)\n",
    "\n",
    "\"\"\"with open('data.txt',encoding='utf8') as f:\n",
    "\tlines = f.readlines()\n",
    "\tfor string in lines:\n",
    "\t\tprint(\"[]\", \"{}\".format(string))\n",
    "\t\tsequence = tokenizer.texts_to_sequences([string])\n",
    "\t\ttest = pad_sequences(sequence,maxlen=max_len)\n",
    "\t\tpredictions_data3 = best_model3.predict(test)\n",
    "\t\tscore_data3 = predictions_data3[0]\n",
    "\t\tprint(\"=> {}: {:.2f} % of assurance\".format(sentiment3[np.around(best_model3(test),decimals=0).argmax(axis=1)[0]],100*np.max(score_data3)))\n",
    "\t\tprint(\"\\n\")\n",
    "f.close()\"\"\"\n",
    "\n",
    "print(\"\\n\")\n",
    "string = input(\"=> \")\n",
    "sequence = tokenizer3.texts_to_sequences([string])\n",
    "test = pad_sequences(sequence,maxlen=max_len)\n",
    "predictions_data3 = best_model3.predict(test)\n",
    "score_data3 = predictions_data3[0]\n",
    "print(\"\\n\")\n",
    "print(\"{} ({:.2f} % of accuracy)\".format(sentiment3[np.around(best_model3(test),decimals=0).argmax(axis=1)[0]],100*np.max(score_data3)))\n",
    "print(\"\\n\")"
   ]
  },
  {
   "cell_type": "code",
   "execution_count": null,
   "id": "578e7e04",
   "metadata": {},
   "outputs": [],
   "source": []
  }
 ],
 "metadata": {
  "kernelspec": {
   "display_name": "Python 3",
   "language": "python",
   "name": "python3"
  },
  "language_info": {
   "codemirror_mode": {
    "name": "ipython",
    "version": 3
   },
   "file_extension": ".py",
   "mimetype": "text/x-python",
   "name": "python",
   "nbconvert_exporter": "python",
   "pygments_lexer": "ipython3",
   "version": "3.8.5"
  }
 },
 "nbformat": 4,
 "nbformat_minor": 5
}
